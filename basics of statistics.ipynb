{
 "cells": [
  {
   "cell_type": "code",
   "execution_count": 26,
   "id": "5949fd63",
   "metadata": {},
   "outputs": [],
   "source": [
    "import numpy as np"
   ]
  },
  {
   "cell_type": "markdown",
   "id": "3f7851d2",
   "metadata": {},
   "source": [
    "### Mean"
   ]
  },
  {
   "cell_type": "code",
   "execution_count": 14,
   "id": "47195586",
   "metadata": {},
   "outputs": [
    {
     "data": {
      "text/plain": [
       "7.5"
      ]
     },
     "execution_count": 14,
     "metadata": {},
     "output_type": "execute_result"
    }
   ],
   "source": [
    "mean=np.mean([1,7,3,8,10,16])\n",
    "mean"
   ]
  },
  {
   "cell_type": "code",
   "execution_count": 13,
   "id": "0db43d52",
   "metadata": {},
   "outputs": [
    {
     "data": {
      "text/plain": [
       "3.0"
      ]
     },
     "execution_count": 13,
     "metadata": {},
     "output_type": "execute_result"
    }
   ],
   "source": [
    "data=[1,2,3,4,5]\n",
    "mean1=np.mean(data)\n",
    "mean1"
   ]
  },
  {
   "cell_type": "code",
   "execution_count": 15,
   "id": "918b10f5",
   "metadata": {
    "scrolled": true
   },
   "outputs": [
    {
     "name": "stdout",
     "output_type": "stream",
     "text": [
      "85.83333333333333\n"
     ]
    }
   ],
   "source": [
    "mean2=np.mean([1,2,3,4,5,500])\n",
    "print(mean2)"
   ]
  },
  {
   "cell_type": "code",
   "execution_count": 16,
   "id": "d80aa34a",
   "metadata": {},
   "outputs": [
    {
     "name": "stdout",
     "output_type": "stream",
     "text": [
      "51.2\n"
     ]
    }
   ],
   "source": [
    "mean3=np.mean([22,65,45,46,78])\n",
    "print(mean3)"
   ]
  },
  {
   "cell_type": "markdown",
   "id": "5664694c",
   "metadata": {},
   "source": [
    "### Median"
   ]
  },
  {
   "cell_type": "code",
   "execution_count": 12,
   "id": "330c2d80",
   "metadata": {},
   "outputs": [
    {
     "name": "stdout",
     "output_type": "stream",
     "text": [
      "7.5\n"
     ]
    }
   ],
   "source": [
    "print(np.median([[1,7,3,8,10,16]]))"
   ]
  },
  {
   "cell_type": "code",
   "execution_count": 17,
   "id": "f850eddc",
   "metadata": {},
   "outputs": [
    {
     "data": {
      "text/plain": [
       "3.0"
      ]
     },
     "execution_count": 17,
     "metadata": {},
     "output_type": "execute_result"
    }
   ],
   "source": [
    "data=[1,2,3,4,5]\n",
    "median1=np.median(data)\n",
    "median1"
   ]
  },
  {
   "cell_type": "code",
   "execution_count": 18,
   "id": "5461fd32",
   "metadata": {},
   "outputs": [
    {
     "name": "stdout",
     "output_type": "stream",
     "text": [
      "3.5\n"
     ]
    }
   ],
   "source": [
    "median2=np.median([1,2,3,4,5,500])\n",
    "print(median2)"
   ]
  },
  {
   "cell_type": "code",
   "execution_count": 20,
   "id": "156d2d78",
   "metadata": {},
   "outputs": [
    {
     "name": "stdout",
     "output_type": "stream",
     "text": [
      "46.0\n"
     ]
    }
   ],
   "source": [
    "print(np.median([22,65,45,46,78]))"
   ]
  },
  {
   "cell_type": "markdown",
   "id": "216c3d3e",
   "metadata": {},
   "source": [
    "### Mode"
   ]
  },
  {
   "cell_type": "code",
   "execution_count": 27,
   "id": "9e842fc6",
   "metadata": {},
   "outputs": [],
   "source": [
    "import statistics as stats"
   ]
  },
  {
   "cell_type": "code",
   "execution_count": 28,
   "id": "77f49cf6",
   "metadata": {},
   "outputs": [
    {
     "name": "stdout",
     "output_type": "stream",
     "text": [
      "2\n"
     ]
    }
   ],
   "source": [
    "print(stats.mode([4,2,4,3,2,2]))"
   ]
  },
  {
   "cell_type": "markdown",
   "id": "6f7418c0",
   "metadata": {},
   "source": [
    "### Variance & Standard deviation"
   ]
  },
  {
   "cell_type": "code",
   "execution_count": 29,
   "id": "028a8a05",
   "metadata": {},
   "outputs": [
    {
     "name": "stdout",
     "output_type": "stream",
     "text": [
      "2.0\n"
     ]
    }
   ],
   "source": [
    "print(np.var([1,2,3,4,5]))"
   ]
  },
  {
   "cell_type": "code",
   "execution_count": 30,
   "id": "d5f797fd",
   "metadata": {},
   "outputs": [
    {
     "name": "stdout",
     "output_type": "stream",
     "text": [
      "1.4142135623730951\n"
     ]
    }
   ],
   "source": [
    "print(np.std([1,2,3,4,5]))"
   ]
  },
  {
   "cell_type": "code",
   "execution_count": null,
   "id": "0c9f3b26",
   "metadata": {},
   "outputs": [],
   "source": []
  }
 ],
 "metadata": {
  "kernelspec": {
   "display_name": "Python 3 (ipykernel)",
   "language": "python",
   "name": "python3"
  },
  "language_info": {
   "codemirror_mode": {
    "name": "ipython",
    "version": 3
   },
   "file_extension": ".py",
   "mimetype": "text/x-python",
   "name": "python",
   "nbconvert_exporter": "python",
   "pygments_lexer": "ipython3",
   "version": "3.9.7"
  }
 },
 "nbformat": 4,
 "nbformat_minor": 5
}
